{
 "cells": [
  {
   "cell_type": "code",
   "execution_count": 1,
   "id": "d9b5b5cb",
   "metadata": {},
   "outputs": [
    {
     "name": "stdout",
     "output_type": "stream",
     "text": [
      "Requirement already satisfied: psycopg2 in /Users/stephieeh/anaconda3/lib/python3.11/site-packages (2.9.9)\r\n"
     ]
    }
   ],
   "source": [
    "!pip install psycopg2\n",
    "# To connect to database\n",
    "import psycopg2"
   ]
  },
  {
   "cell_type": "markdown",
   "id": "663e2b2f",
   "metadata": {},
   "source": [
    "To connect to database"
   ]
  },
  {
   "cell_type": "code",
   "execution_count": 2,
   "id": "4cbd1f5d",
   "metadata": {},
   "outputs": [
    {
     "ename": "ImportError",
     "evalue": "dlopen(/Users/stephieeh/anaconda3/lib/python3.11/site-packages/psycopg2/_psycopg.cpython-311-darwin.so, 0x0002): Library not loaded: @rpath/libssl.1.1.dylib\n  Referenced from: <A3F6E32A-193B-3CCD-A107-F19329293DCA> /Users/stephieeh/anaconda3/lib/python3.11/site-packages/psycopg2/_psycopg.cpython-311-darwin.so\n  Reason: tried: '/Users/stephieeh/anaconda3/lib/libssl.1.1.dylib' (no such file), '/System/Volumes/Preboot/Cryptexes/OS/Users/stephieeh/anaconda3/lib/libssl.1.1.dylib' (no such file), '/Users/stephieeh/anaconda3/lib/libssl.1.1.dylib' (no such file), '/System/Volumes/Preboot/Cryptexes/OS/Users/stephieeh/anaconda3/lib/libssl.1.1.dylib' (no such file), '/Users/stephieeh/anaconda3/lib/libssl.1.1.dylib' (no such file), '/System/Volumes/Preboot/Cryptexes/OS/Users/stephieeh/anaconda3/lib/libssl.1.1.dylib' (no such file), '/Users/stephieeh/anaconda3/lib/libssl.1.1.dylib' (no such file), '/System/Volumes/Preboot/Cryptexes/OS/Users/stephieeh/anaconda3/lib/libssl.1.1.dylib' (no such file), '/Users/stephieeh/anaconda3/bin/../lib/libssl.1.1.dylib' (no such file), '/Users/stephieeh/anaconda3/bin/../lib/libssl.1.1.dylib' (no such file), '/usr/local/lib/libssl.1.1.dylib' (no such file), '/usr/lib/libssl.1.1.dylib' (no such file, not in dyld cache)",
     "output_type": "error",
     "traceback": [
      "\u001b[0;31m---------------------------------------------------------------------------\u001b[0m",
      "\u001b[0;31mImportError\u001b[0m                               Traceback (most recent call last)",
      "Cell \u001b[0;32mIn[2], line 1\u001b[0m\n\u001b[0;32m----> 1\u001b[0m \u001b[38;5;28;01mimport\u001b[39;00m \u001b[38;5;21;01mpsycopg2\u001b[39;00m\n",
      "File \u001b[0;32m~/anaconda3/lib/python3.11/site-packages/psycopg2/__init__.py:51\u001b[0m\n\u001b[1;32m      1\u001b[0m \u001b[38;5;124;03m\"\"\"A Python driver for PostgreSQL\u001b[39;00m\n\u001b[1;32m      2\u001b[0m \n\u001b[1;32m      3\u001b[0m \u001b[38;5;124;03mpsycopg is a PostgreSQL_ database adapter for the Python_ programming\u001b[39;00m\n\u001b[0;32m   (...)\u001b[0m\n\u001b[1;32m     17\u001b[0m \u001b[38;5;124;03m    TimeFromTicks, Timestamp, TimestampFromTicks\u001b[39;00m\n\u001b[1;32m     18\u001b[0m \u001b[38;5;124;03m\"\"\"\u001b[39;00m\n\u001b[1;32m     19\u001b[0m \u001b[38;5;66;03m# psycopg/__init__.py - initialization of the psycopg module\u001b[39;00m\n\u001b[1;32m     20\u001b[0m \u001b[38;5;66;03m#\u001b[39;00m\n\u001b[1;32m     21\u001b[0m \u001b[38;5;66;03m# Copyright (C) 2003-2019 Federico Di Gregorio  <fog@debian.org>\u001b[39;00m\n\u001b[0;32m   (...)\u001b[0m\n\u001b[1;32m     48\u001b[0m \n\u001b[1;32m     49\u001b[0m \u001b[38;5;66;03m# Import the DBAPI-2.0 stuff into top-level module.\u001b[39;00m\n\u001b[0;32m---> 51\u001b[0m \u001b[38;5;28;01mfrom\u001b[39;00m \u001b[38;5;21;01mpsycopg2\u001b[39;00m\u001b[38;5;21;01m.\u001b[39;00m\u001b[38;5;21;01m_psycopg\u001b[39;00m \u001b[38;5;28;01mimport\u001b[39;00m (                     \u001b[38;5;66;03m# noqa\u001b[39;00m\n\u001b[1;32m     52\u001b[0m     BINARY, NUMBER, STRING, DATETIME, ROWID,\n\u001b[1;32m     53\u001b[0m \n\u001b[1;32m     54\u001b[0m     Binary, Date, Time, Timestamp,\n\u001b[1;32m     55\u001b[0m     DateFromTicks, TimeFromTicks, TimestampFromTicks,\n\u001b[1;32m     56\u001b[0m \n\u001b[1;32m     57\u001b[0m     Error, \u001b[38;5;167;01mWarning\u001b[39;00m, DataError, DatabaseError, ProgrammingError, IntegrityError,\n\u001b[1;32m     58\u001b[0m     InterfaceError, InternalError, NotSupportedError, OperationalError,\n\u001b[1;32m     59\u001b[0m \n\u001b[1;32m     60\u001b[0m     _connect, apilevel, threadsafety, paramstyle,\n\u001b[1;32m     61\u001b[0m     __version__, __libpq_version__,\n\u001b[1;32m     62\u001b[0m )\n\u001b[1;32m     65\u001b[0m \u001b[38;5;66;03m# Register default adapters.\u001b[39;00m\n\u001b[1;32m     67\u001b[0m \u001b[38;5;28;01mfrom\u001b[39;00m \u001b[38;5;21;01mpsycopg2\u001b[39;00m \u001b[38;5;28;01mimport\u001b[39;00m extensions \u001b[38;5;28;01mas\u001b[39;00m _ext\n",
      "\u001b[0;31mImportError\u001b[0m: dlopen(/Users/stephieeh/anaconda3/lib/python3.11/site-packages/psycopg2/_psycopg.cpython-311-darwin.so, 0x0002): Library not loaded: @rpath/libssl.1.1.dylib\n  Referenced from: <A3F6E32A-193B-3CCD-A107-F19329293DCA> /Users/stephieeh/anaconda3/lib/python3.11/site-packages/psycopg2/_psycopg.cpython-311-darwin.so\n  Reason: tried: '/Users/stephieeh/anaconda3/lib/libssl.1.1.dylib' (no such file), '/System/Volumes/Preboot/Cryptexes/OS/Users/stephieeh/anaconda3/lib/libssl.1.1.dylib' (no such file), '/Users/stephieeh/anaconda3/lib/libssl.1.1.dylib' (no such file), '/System/Volumes/Preboot/Cryptexes/OS/Users/stephieeh/anaconda3/lib/libssl.1.1.dylib' (no such file), '/Users/stephieeh/anaconda3/lib/libssl.1.1.dylib' (no such file), '/System/Volumes/Preboot/Cryptexes/OS/Users/stephieeh/anaconda3/lib/libssl.1.1.dylib' (no such file), '/Users/stephieeh/anaconda3/lib/libssl.1.1.dylib' (no such file), '/System/Volumes/Preboot/Cryptexes/OS/Users/stephieeh/anaconda3/lib/libssl.1.1.dylib' (no such file), '/Users/stephieeh/anaconda3/bin/../lib/libssl.1.1.dylib' (no such file), '/Users/stephieeh/anaconda3/bin/../lib/libssl.1.1.dylib' (no such file), '/usr/local/lib/libssl.1.1.dylib' (no such file), '/usr/lib/libssl.1.1.dylib' (no such file, not in dyld cache)"
     ]
    }
   ],
   "source": [
    "import psycopg2"
   ]
  },
  {
   "cell_type": "code",
   "execution_count": 14,
   "id": "5b46d821",
   "metadata": {},
   "outputs": [],
   "source": [
    "try:\n",
    "    conn = psycopg2.connect(\"host=localhost dbname=postgres user=postgres password=Jetaime1818.\")\n",
    "except psycopg2.Error as e:\n",
    "    print('Error: could not make connection to the Postgres database')\n",
    "    print(e)"
   ]
  },
  {
   "cell_type": "markdown",
   "id": "9c0b175c",
   "metadata": {},
   "source": [
    "To Execute queries onto databse"
   ]
  },
  {
   "cell_type": "code",
   "execution_count": 17,
   "id": "36abf171",
   "metadata": {},
   "outputs": [],
   "source": [
    "try:\n",
    "    cur = conn.cursor()\n",
    "except psycopg2.Error as e:\n",
    "    print('Error: could not get cursor to the Postgres database')\n",
    "    print(e)"
   ]
  },
  {
   "cell_type": "markdown",
   "id": "3806d76d",
   "metadata": {},
   "source": [
    "Set auto commit to avoid running conn.commit() each time"
   ]
  },
  {
   "cell_type": "code",
   "execution_count": 18,
   "id": "bf70bd59",
   "metadata": {},
   "outputs": [],
   "source": [
    "conn.set_session(autocommit=True)"
   ]
  },
  {
   "cell_type": "markdown",
   "id": "4f63dd80",
   "metadata": {},
   "source": [
    "create database"
   ]
  },
  {
   "cell_type": "code",
   "execution_count": 20,
   "id": "d7792410",
   "metadata": {},
   "outputs": [
    {
     "name": "stdout",
     "output_type": "stream",
     "text": [
      "database \"analyticsdb\" already exists\n",
      "\n"
     ]
    }
   ],
   "source": [
    "try:\n",
    "    cur.execute(\"create database analyticsdb\")\n",
    "except psycopg2.Error as e:\n",
    "    print(e)"
   ]
  },
  {
   "cell_type": "markdown",
   "id": "8d5b48e3",
   "metadata": {},
   "source": [
    "Close previous database to add a new one"
   ]
  },
  {
   "cell_type": "code",
   "execution_count": 21,
   "id": "78249ec0",
   "metadata": {},
   "outputs": [],
   "source": [
    "try:\n",
    "    conn.close()\n",
    "except psycopg2.Error as e:\n",
    "    print(e)\n",
    "try:\n",
    "    conn = psycopg2.connect(\"host=localhost dbname=analyticsdb user=postgres password=Jetaime1818.\")\n",
    "except psycopg2.Error as e:\n",
    "    print('Error: could not make connection to the Postgres database')\n",
    "    print(e)\n",
    "try:\n",
    "    cur = conn.cursor()\n",
    "except psycopg2.Error as e:\n",
    "    print('Error: could not get cursor to the Postgres database')\n",
    "    print(e)\n",
    "conn.set_session(autocommit=True)\n"
   ]
  },
  {
   "cell_type": "markdown",
   "id": "9360a67b",
   "metadata": {},
   "source": [
    "Create table"
   ]
  },
  {
   "cell_type": "code",
   "execution_count": 115,
   "id": "ef7619ee",
   "metadata": {},
   "outputs": [],
   "source": [
    "try:\n",
    "    cur.execute(\"CREATE TABLE IF NOT EXISTS Sales_retail (customer_id int, product_id int,\\\n",
    "    quantity int, product_name varchar, product_Category varchar, unit_price float);\")\n",
    "except psycopg2.Error as e:\n",
    "    print('Error: Issue creating table')\n",
    "    print(e)"
   ]
  },
  {
   "cell_type": "markdown",
   "id": "73f106fa",
   "metadata": {},
   "source": [
    "Insert data into table\n"
   ]
  },
  {
   "cell_type": "code",
   "execution_count": 116,
   "id": "edeea55b",
   "metadata": {},
   "outputs": [],
   "source": [
    "try:\n",
    "    cur.execute\\\n",
    "    (\"INSERT INTO Sales_retail (customer_id, product_id,quantity, product_name, product_Category, unit_price)\\\n",
    "    VALUES (%s, %s, %s, %s, %s, %s )\",\\\n",
    "    (1, 1, 12, \"Sandal\", \"Shoes\", 60))\n",
    "except psycopg2.Error as e:\n",
    "    print('Error: Inserting Rows')\n",
    "    print(e)\n",
    "try:\n",
    "    cur.execute(\"INSERT INTO Sales_retail (customer_id, product_id,\\\n",
    "    quantity, product_name, product_Category, unit_price)\\\n",
    "    VALUES (%s, %s, %s, %s, %s, %s )\", (2, 2, 6, \"Silk top\", \"Clothe\", 59))\n",
    "except psycopg2.Error as e:\n",
    "    print('Error: Inserting Rows')\n",
    "    print(e)"
   ]
  },
  {
   "cell_type": "markdown",
   "id": "aa7b6552",
   "metadata": {},
   "source": [
    "Validate data"
   ]
  },
  {
   "cell_type": "code",
   "execution_count": 118,
   "id": "f8df2c3e",
   "metadata": {},
   "outputs": [
    {
     "name": "stdout",
     "output_type": "stream",
     "text": [
      "(1, 1, 12, 'Sandal', 'Shoes', 60.0)\n",
      "(2, 2, 6, 'Silk top', 'Clothe', 59.0)\n"
     ]
    }
   ],
   "source": [
    "try:\n",
    "    cur.execute(\"SELECT * FROM Sales_retail;\")\n",
    "except psycopg2.Error as e:\n",
    "    print('Error: selecting table')\n",
    "    print(e)\n",
    "\n",
    "row = cur.fetchone()\n",
    "while row is not None:\n",
    "  print(row)\n",
    "  row = cur.fetchone()\n"
   ]
  },
  {
   "cell_type": "markdown",
   "id": "507860fa",
   "metadata": {},
   "source": [
    "Close cursor & connection"
   ]
  },
  {
   "cell_type": "code",
   "execution_count": 119,
   "id": "b8dbaa97",
   "metadata": {},
   "outputs": [],
   "source": [
    "cur.close()\n",
    "conn.close()"
   ]
  },
  {
   "cell_type": "code",
   "execution_count": null,
   "id": "d4443944",
   "metadata": {},
   "outputs": [],
   "source": []
  }
 ],
 "metadata": {
  "kernelspec": {
   "display_name": "Python 3 (ipykernel)",
   "language": "python",
   "name": "python3"
  },
  "language_info": {
   "codemirror_mode": {
    "name": "ipython",
    "version": 3
   },
   "file_extension": ".py",
   "mimetype": "text/x-python",
   "name": "python",
   "nbconvert_exporter": "python",
   "pygments_lexer": "ipython3",
   "version": "3.11.5"
  }
 },
 "nbformat": 4,
 "nbformat_minor": 5
}
