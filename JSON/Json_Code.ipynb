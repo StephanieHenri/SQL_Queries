{
 "cells": [
  {
   "cell_type": "code",
   "execution_count": 1,
   "id": "170eeb34",
   "metadata": {},
   "outputs": [],
   "source": [
    "import json\n",
    "import pymysql\n",
    "import os\n",
    "import re\n",
    "import pandas as pd\n",
    "import mysql.connector as mysql\n",
    "from collections import defaultdict\n",
    "from datetime import datetime\n",
    "import re\n",
    "from pandas.io.json import json_normalize\n",
    "import requests"
   ]
  },
  {
   "cell_type": "code",
   "execution_count": 2,
   "id": "db4de10c",
   "metadata": {},
   "outputs": [],
   "source": [
    "# Connecting to database\n",
    "# conn =pymysql.connect(host=\"localhost\",user=\"root\",password=\"Jetaime1818\",database=\"jsonfile\")\n",
    "# cursor = conn.cursor()"
   ]
  },
  {
   "cell_type": "code",
   "execution_count": 3,
   "id": "388f64d9",
   "metadata": {},
   "outputs": [],
   "source": [
    "# Reading our file\n",
    "# df=pd.read_sql_query(\"SELECT * FROM task_data\", conn)"
   ]
  },
  {
   "cell_type": "code",
   "execution_count": 4,
   "id": "4998175a",
   "metadata": {},
   "outputs": [],
   "source": [
    "df_rest=pd.read_json('task_data.json').explode('bundes')\n"
   ]
  },
  {
   "cell_type": "code",
   "execution_count": 5,
   "id": "487d91fd",
   "metadata": {},
   "outputs": [],
   "source": [
    "df=pd.json_normalize(json.loads(df_rest.to_json(orient=\"records\")))\n"
   ]
  },
  {
   "cell_type": "code",
   "execution_count": 6,
   "id": "f0bf1315",
   "metadata": {},
   "outputs": [],
   "source": [
    "# # quick look on data structure into milliseconds\n",
    "# import datetime\n",
    "# dtime = datetime.datetime.fromtimestamp(int(\"1599910867664\")/1000)\n",
    "# print(dtime.strftime(\"%Y-%m-%d %H:%M:%S\"))"
   ]
  },
  {
   "cell_type": "code",
   "execution_count": 7,
   "id": "c1c76825",
   "metadata": {},
   "outputs": [],
   "source": [
    "df['updatedAt']=pd.to_datetime(df['updatedAt'], unit='ms')\n",
    "df['createdAt']=pd.to_datetime(df['createdAt'], unit='ms')"
   ]
  },
  {
   "cell_type": "code",
   "execution_count": 8,
   "id": "a8a524e8",
   "metadata": {},
   "outputs": [],
   "source": [
    "df['updatedAt']=pd.to_datetime(df['updatedAt']).dt.tz_localize('Europe/London').dt.tz_convert('UTC').dt.strftime(\"%Y-%m-%d %H:%M:%S\")\n",
    "df['createdAt']=pd.to_datetime(df['createdAt']).dt.tz_localize('Europe/London').dt.tz_convert('UTC').dt.strftime(\"%Y-%m-%d %H:%M:%S\")"
   ]
  },
  {
   "cell_type": "code",
   "execution_count": 9,
   "id": "5b6086af",
   "metadata": {},
   "outputs": [
    {
     "data": {
      "text/html": [
       "<div>\n",
       "<style scoped>\n",
       "    .dataframe tbody tr th:only-of-type {\n",
       "        vertical-align: middle;\n",
       "    }\n",
       "\n",
       "    .dataframe tbody tr th {\n",
       "        vertical-align: top;\n",
       "    }\n",
       "\n",
       "    .dataframe thead th {\n",
       "        text-align: right;\n",
       "    }\n",
       "</style>\n",
       "<table border=\"1\" class=\"dataframe\">\n",
       "  <thead>\n",
       "    <tr style=\"text-align: right;\">\n",
       "      <th></th>\n",
       "      <th>createdAt</th>\n",
       "      <th>extStoreUUID</th>\n",
       "      <th>extTenantUUID</th>\n",
       "      <th>requestedFrom</th>\n",
       "      <th>status</th>\n",
       "      <th>takeaway</th>\n",
       "      <th>timezone</th>\n",
       "      <th>updatedAt</th>\n",
       "      <th>uuid</th>\n",
       "      <th>bundes.basketUUID</th>\n",
       "      <th>...</th>\n",
       "      <th>payment.discount</th>\n",
       "      <th>payment.price</th>\n",
       "      <th>payment.serviceCharge</th>\n",
       "      <th>payment.subtotalAmount</th>\n",
       "      <th>payment.totalAmount</th>\n",
       "      <th>payment.vatAmount</th>\n",
       "      <th>user.extUserUUID</th>\n",
       "      <th>bundes.kitchenStation</th>\n",
       "      <th>bundes.promotion.uuid</th>\n",
       "      <th>bundes.promotion.value</th>\n",
       "    </tr>\n",
       "  </thead>\n",
       "  <tbody>\n",
       "    <tr>\n",
       "      <th>0</th>\n",
       "      <td>2020-09-12 04:15:40</td>\n",
       "      <td>9805173c-9f79-4e1f-9e48-8d8430964c86</td>\n",
       "      <td>f63d7d52-0fa8-4d56-b954-a9ecb86e350a</td>\n",
       "      <td>opat</td>\n",
       "      <td>collected</td>\n",
       "      <td>False</td>\n",
       "      <td>Europe/London</td>\n",
       "      <td>2020-09-12 04:21:31</td>\n",
       "      <td>68b53774-9463-4391-b3da-89cd60203870</td>\n",
       "      <td>D__H_qif53mXatdcFxpqp</td>\n",
       "      <td>...</td>\n",
       "      <td>0.0</td>\n",
       "      <td>18.7</td>\n",
       "      <td>0.0</td>\n",
       "      <td>18.7</td>\n",
       "      <td>18.7</td>\n",
       "      <td>0.89</td>\n",
       "      <td>3562d0f3-03fc-473c-b0df-c12f6e3b069b</td>\n",
       "      <td>NaN</td>\n",
       "      <td>NaN</td>\n",
       "      <td>NaN</td>\n",
       "    </tr>\n",
       "    <tr>\n",
       "      <th>1</th>\n",
       "      <td>2020-09-12 04:15:40</td>\n",
       "      <td>9805173c-9f79-4e1f-9e48-8d8430964c86</td>\n",
       "      <td>f63d7d52-0fa8-4d56-b954-a9ecb86e350a</td>\n",
       "      <td>opat</td>\n",
       "      <td>collected</td>\n",
       "      <td>False</td>\n",
       "      <td>Europe/London</td>\n",
       "      <td>2020-09-12 04:21:31</td>\n",
       "      <td>68b53774-9463-4391-b3da-89cd60203870</td>\n",
       "      <td>lkwfnPTiTfNplVc3Mma6s</td>\n",
       "      <td>...</td>\n",
       "      <td>0.0</td>\n",
       "      <td>18.7</td>\n",
       "      <td>0.0</td>\n",
       "      <td>18.7</td>\n",
       "      <td>18.7</td>\n",
       "      <td>0.89</td>\n",
       "      <td>3562d0f3-03fc-473c-b0df-c12f6e3b069b</td>\n",
       "      <td>NaN</td>\n",
       "      <td>NaN</td>\n",
       "      <td>NaN</td>\n",
       "    </tr>\n",
       "  </tbody>\n",
       "</table>\n",
       "<p>2 rows × 40 columns</p>\n",
       "</div>"
      ],
      "text/plain": [
       "             createdAt                          extStoreUUID  \\\n",
       "0  2020-09-12 04:15:40  9805173c-9f79-4e1f-9e48-8d8430964c86   \n",
       "1  2020-09-12 04:15:40  9805173c-9f79-4e1f-9e48-8d8430964c86   \n",
       "\n",
       "                          extTenantUUID requestedFrom     status  takeaway  \\\n",
       "0  f63d7d52-0fa8-4d56-b954-a9ecb86e350a          opat  collected     False   \n",
       "1  f63d7d52-0fa8-4d56-b954-a9ecb86e350a          opat  collected     False   \n",
       "\n",
       "        timezone            updatedAt                                  uuid  \\\n",
       "0  Europe/London  2020-09-12 04:21:31  68b53774-9463-4391-b3da-89cd60203870   \n",
       "1  Europe/London  2020-09-12 04:21:31  68b53774-9463-4391-b3da-89cd60203870   \n",
       "\n",
       "       bundes.basketUUID  ... payment.discount payment.price  \\\n",
       "0  D__H_qif53mXatdcFxpqp  ...              0.0          18.7   \n",
       "1  lkwfnPTiTfNplVc3Mma6s  ...              0.0          18.7   \n",
       "\n",
       "  payment.serviceCharge  payment.subtotalAmount payment.totalAmount  \\\n",
       "0                   0.0                    18.7                18.7   \n",
       "1                   0.0                    18.7                18.7   \n",
       "\n",
       "  payment.vatAmount                      user.extUserUUID  \\\n",
       "0              0.89  3562d0f3-03fc-473c-b0df-c12f6e3b069b   \n",
       "1              0.89  3562d0f3-03fc-473c-b0df-c12f6e3b069b   \n",
       "\n",
       "  bundes.kitchenStation bundes.promotion.uuid bundes.promotion.value  \n",
       "0                   NaN                   NaN                    NaN  \n",
       "1                   NaN                   NaN                    NaN  \n",
       "\n",
       "[2 rows x 40 columns]"
      ]
     },
     "execution_count": 9,
     "metadata": {},
     "output_type": "execute_result"
    }
   ],
   "source": [
    "df.head(2)"
   ]
  }
 ],
 "metadata": {
  "kernelspec": {
   "display_name": "Python 3 (ipykernel)",
   "language": "python",
   "name": "python3"
  },
  "language_info": {
   "codemirror_mode": {
    "name": "ipython",
    "version": 3
   },
   "file_extension": ".py",
   "mimetype": "text/x-python",
   "name": "python",
   "nbconvert_exporter": "python",
   "pygments_lexer": "ipython3",
   "version": "3.11.5"
  }
 },
 "nbformat": 4,
 "nbformat_minor": 5
}
